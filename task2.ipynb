{
 "cells": [
  {
   "cell_type": "code",
   "execution_count": 6,
   "id": "fe6ba80e-85ed-47c1-909f-9324fb4bd834",
   "metadata": {},
   "outputs": [
    {
     "name": "stdout",
     "output_type": "stream",
     "text": [
      " Поисковых запросов, содержащих 2 слов(а): , 42.86%\n",
      " Поисковых запросов, содержащих 3 слов(а): , 57.14%\n"
     ]
    }
   ],
   "source": [
    "# Напишем программу, которая выведет на экран распределение количества слов в запросах в требуемом виде\n",
    "queries = [\n",
    "'смотреть сериалы онлайн',\n",
    "'новости спорта',\n",
    "'афиша кино',\n",
    "'курс доллара',\n",
    "'сериалы этим летом',\n",
    "'курс по питону',\n",
    "'сериалы про спорт',\n",
    "]\n",
    "\n",
    "two_words = 0 # обьявляем вспомогательные переменные\n",
    "three_words = 0\n",
    "\n",
    "for question_user in queries: # в цикле идем по элементам списка\n",
    "    if len(question_user.split()) % 2 == 0: # смотрим если в элементе четное кол-во слов\n",
    "        two_words +=1 # инкрементируем переменную для двух слов\n",
    "    else:\n",
    "        three_words +=1 # иначе инкрементируем переменную для трех слов\n",
    "print(f' Поисковых запросов, содержащих 2 слов(а): , {two_words/len(queries)*100:.2f}%') \n",
    "# считаем и выводим процетное соотнешение для использ. четного кол-ва слов\n",
    "print(f' Поисковых запросов, содержащих 3 слов(а): , {three_words/len(queries)*100:.2f}%') \n",
    "#считаем и выводим процетное соотнешение для использ. нечетного кол-ва слов\n",
    "\n"
   ]
  },
  {
   "cell_type": "code",
   "execution_count": null,
   "id": "e5cf7a06-7dd1-45fa-a0fd-2400685a1a6a",
   "metadata": {},
   "outputs": [],
   "source": []
  },
  {
   "cell_type": "code",
   "execution_count": null,
   "id": "dfbc5f96-166e-483b-9dd0-6db4fe9149cc",
   "metadata": {},
   "outputs": [],
   "source": []
  }
 ],
 "metadata": {
  "kernelspec": {
   "display_name": "Python 3 (ipykernel)",
   "language": "python",
   "name": "python3"
  },
  "language_info": {
   "codemirror_mode": {
    "name": "ipython",
    "version": 3
   },
   "file_extension": ".py",
   "mimetype": "text/x-python",
   "name": "python",
   "nbconvert_exporter": "python",
   "pygments_lexer": "ipython3",
   "version": "3.12.7"
  }
 },
 "nbformat": 4,
 "nbformat_minor": 5
}
